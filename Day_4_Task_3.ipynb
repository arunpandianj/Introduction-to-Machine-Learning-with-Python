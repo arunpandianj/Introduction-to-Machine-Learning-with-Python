{
  "nbformat": 4,
  "nbformat_minor": 0,
  "metadata": {
    "kernelspec": {
      "display_name": "Python 3",
      "language": "python",
      "name": "python3"
    },
    "language_info": {
      "codemirror_mode": {
        "name": "ipython",
        "version": 3
      },
      "file_extension": ".py",
      "mimetype": "text/x-python",
      "name": "python",
      "nbconvert_exporter": "python",
      "pygments_lexer": "ipython3",
      "version": "3.6.5"
    },
    "colab": {
      "name": "Day_4_Task_3.ipynb",
      "provenance": []
    }
  },
  "cells": [
    {
      "cell_type": "markdown",
      "metadata": {
        "id": "VPogvSXOe2Mk"
      },
      "source": [
        "\n",
        "\n",
        "<h1 align=center><font size = 5>CONTENT-BASED FILTERING</font></h1>"
      ]
    },
    {
      "cell_type": "markdown",
      "metadata": {
        "id": "Oa8TkaFue2Mo"
      },
      "source": [
        "Recommendation systems are a collection of algorithms used to recommend items to users based on information taken from the user. These systems have become ubiquitous can be commonly seen in online stores, movies databases and job finders. In this notebook, we will explore Content-based recommendation systems and implement a simple version of one using Python and the Pandas library."
      ]
    },
    {
      "cell_type": "markdown",
      "metadata": {
        "id": "3NGRYh7ze2Mt"
      },
      "source": [
        "### Table of contents\n",
        "\n",
        "<div class=\"alert alert-block alert-info\" style=\"margin-top: 20px\">\n",
        "- <p><a href=\"#ref1\">Acquiring the Data</a></p>\n",
        "- <p><a href=\"#ref2\">Preprocessing</a></p>\n",
        "- <p><a href=\"#ref3\">Content-Based Filtering</a></p>\n",
        "<p></p>\n",
        "</div>\n",
        "<br>"
      ]
    },
    {
      "cell_type": "markdown",
      "metadata": {
        "id": "UnaEkGHGe2Mx"
      },
      "source": [
        "<a id=\"ref1\"></a>\n",
        "# Acquiring the Data"
      ]
    },
    {
      "cell_type": "markdown",
      "metadata": {
        "id": "V7KLqSlYe2M1"
      },
      "source": [
        "To acquire and extract the data, simply run the following Bash scripts:  \n",
        "Dataset acquired from [GroupLens](http://grouplens.org/datasets/movielens/). Lets download the dataset. To download the data, we will use **`!wget`**. To download the data, we will use `!wget` to download it from IBM Object Storage.  \n",
        "__Did you know?__ When it comes to Machine Learning, you will likely be working with large datasets. As a business, where can you host your data? IBM is offering a unique opportunity for businesses, with 10 Tb of IBM Cloud Object Storage: [Sign up now for free](http://cocl.us/ML0101EN-IBM-Offer-CC)"
      ]
    },
    {
      "cell_type": "code",
      "metadata": {
        "id": "g-huBeqPe2M3",
        "outputId": "a5f73550-cae1-40c8-c2ec-9e943ffb427f",
        "colab": {
          "base_uri": "https://localhost:8080/",
          "height": 348
        }
      },
      "source": [
        "!wget -O moviedataset.zip https://s3-api.us-geo.objectstorage.softlayer.net/cf-courses-data/CognitiveClass/ML0101ENv3/labs/moviedataset.zip\n",
        "print('unziping ...')\n",
        "!unzip -o -j moviedataset.zip "
      ],
      "execution_count": 1,
      "outputs": [
        {
          "output_type": "stream",
          "text": [
            "--2020-10-14 09:41:30--  https://s3-api.us-geo.objectstorage.softlayer.net/cf-courses-data/CognitiveClass/ML0101ENv3/labs/moviedataset.zip\n",
            "Resolving s3-api.us-geo.objectstorage.softlayer.net (s3-api.us-geo.objectstorage.softlayer.net)... 67.228.254.196\n",
            "Connecting to s3-api.us-geo.objectstorage.softlayer.net (s3-api.us-geo.objectstorage.softlayer.net)|67.228.254.196|:443... connected.\n",
            "HTTP request sent, awaiting response... 200 OK\n",
            "Length: 160301210 (153M) [application/zip]\n",
            "Saving to: ‘moviedataset.zip’\n",
            "\n",
            "moviedataset.zip    100%[===================>] 152.88M  40.7MB/s    in 3.7s    \n",
            "\n",
            "2020-10-14 09:41:35 (40.9 MB/s) - ‘moviedataset.zip’ saved [160301210/160301210]\n",
            "\n",
            "unziping ...\n",
            "Archive:  moviedataset.zip\n",
            "  inflating: links.csv               \n",
            "  inflating: movies.csv              \n",
            "  inflating: ratings.csv             \n",
            "  inflating: README.txt              \n",
            "  inflating: tags.csv                \n"
          ],
          "name": "stdout"
        }
      ]
    },
    {
      "cell_type": "markdown",
      "metadata": {
        "id": "vma2fMOCe2NN"
      },
      "source": [
        "Now you're ready to start working with the data!"
      ]
    },
    {
      "cell_type": "markdown",
      "metadata": {
        "id": "PmwfqeBGe2NP"
      },
      "source": [
        "<a id=\"ref2\"></a>\n",
        "# Preprocessing"
      ]
    },
    {
      "cell_type": "markdown",
      "metadata": {
        "id": "waGSEa1Pe2NR"
      },
      "source": [
        "First, let's get all of the imports out of the way:"
      ]
    },
    {
      "cell_type": "code",
      "metadata": {
        "id": "iC2BmsaJe2NV"
      },
      "source": [
        "#Dataframe manipulation library\n",
        "import pandas as pd\n",
        "#Math functions, we'll only need the sqrt function so let's import only that\n",
        "from math import sqrt\n",
        "import numpy as np\n",
        "import matplotlib.pyplot as plt\n",
        "%matplotlib inline"
      ],
      "execution_count": 2,
      "outputs": []
    },
    {
      "cell_type": "markdown",
      "metadata": {
        "id": "REMuqjQpe2Nn"
      },
      "source": [
        "Now let's read each file into their Dataframes:"
      ]
    },
    {
      "cell_type": "code",
      "metadata": {
        "id": "PvIq6XyZe2Nq",
        "outputId": "9510bc4a-7dc8-4d38-98eb-55304ff860c5",
        "colab": {
          "base_uri": "https://localhost:8080/",
          "height": 206
        }
      },
      "source": [
        "#Storing the movie information into a pandas dataframe\n",
        "movies_df = pd.read_csv('movies.csv')\n",
        "#Storing the user information into a pandas dataframe\n",
        "ratings_df = pd.read_csv('ratings.csv')\n",
        "#Head is a function that gets the first N rows of a dataframe. N's default is 5.\n",
        "movies_df.head()"
      ],
      "execution_count": 3,
      "outputs": [
        {
          "output_type": "execute_result",
          "data": {
            "text/html": [
              "<div>\n",
              "<style scoped>\n",
              "    .dataframe tbody tr th:only-of-type {\n",
              "        vertical-align: middle;\n",
              "    }\n",
              "\n",
              "    .dataframe tbody tr th {\n",
              "        vertical-align: top;\n",
              "    }\n",
              "\n",
              "    .dataframe thead th {\n",
              "        text-align: right;\n",
              "    }\n",
              "</style>\n",
              "<table border=\"1\" class=\"dataframe\">\n",
              "  <thead>\n",
              "    <tr style=\"text-align: right;\">\n",
              "      <th></th>\n",
              "      <th>movieId</th>\n",
              "      <th>title</th>\n",
              "      <th>genres</th>\n",
              "    </tr>\n",
              "  </thead>\n",
              "  <tbody>\n",
              "    <tr>\n",
              "      <th>0</th>\n",
              "      <td>1</td>\n",
              "      <td>Toy Story (1995)</td>\n",
              "      <td>Adventure|Animation|Children|Comedy|Fantasy</td>\n",
              "    </tr>\n",
              "    <tr>\n",
              "      <th>1</th>\n",
              "      <td>2</td>\n",
              "      <td>Jumanji (1995)</td>\n",
              "      <td>Adventure|Children|Fantasy</td>\n",
              "    </tr>\n",
              "    <tr>\n",
              "      <th>2</th>\n",
              "      <td>3</td>\n",
              "      <td>Grumpier Old Men (1995)</td>\n",
              "      <td>Comedy|Romance</td>\n",
              "    </tr>\n",
              "    <tr>\n",
              "      <th>3</th>\n",
              "      <td>4</td>\n",
              "      <td>Waiting to Exhale (1995)</td>\n",
              "      <td>Comedy|Drama|Romance</td>\n",
              "    </tr>\n",
              "    <tr>\n",
              "      <th>4</th>\n",
              "      <td>5</td>\n",
              "      <td>Father of the Bride Part II (1995)</td>\n",
              "      <td>Comedy</td>\n",
              "    </tr>\n",
              "  </tbody>\n",
              "</table>\n",
              "</div>"
            ],
            "text/plain": [
              "   movieId  ...                                       genres\n",
              "0        1  ...  Adventure|Animation|Children|Comedy|Fantasy\n",
              "1        2  ...                   Adventure|Children|Fantasy\n",
              "2        3  ...                               Comedy|Romance\n",
              "3        4  ...                         Comedy|Drama|Romance\n",
              "4        5  ...                                       Comedy\n",
              "\n",
              "[5 rows x 3 columns]"
            ]
          },
          "metadata": {
            "tags": []
          },
          "execution_count": 3
        }
      ]
    },
    {
      "cell_type": "markdown",
      "metadata": {
        "id": "aDUvgzZte2N3"
      },
      "source": [
        "Let's also remove the year from the __title__ column by using pandas' replace function and store in a new __year__ column."
      ]
    },
    {
      "cell_type": "code",
      "metadata": {
        "scrolled": false,
        "id": "FWrxQzTae2N4",
        "outputId": "8abdfa44-2e4d-4a92-d75c-26735ca0b935",
        "colab": {
          "base_uri": "https://localhost:8080/",
          "height": 206
        }
      },
      "source": [
        "#Using regular expressions to find a year stored between parentheses\n",
        "#We specify the parantheses so we don't conflict with movies that have years in their titles\n",
        "movies_df['year'] = movies_df.title.str.extract('(\\(\\d\\d\\d\\d\\))',expand=False)\n",
        "#Removing the parentheses\n",
        "movies_df['year'] = movies_df.year.str.extract('(\\d\\d\\d\\d)',expand=False)\n",
        "#Removing the years from the 'title' column\n",
        "movies_df['title'] = movies_df.title.str.replace('(\\(\\d\\d\\d\\d\\))', '')\n",
        "#Applying the strip function to get rid of any ending whitespace characters that may have appeared\n",
        "movies_df['title'] = movies_df['title'].apply(lambda x: x.strip())\n",
        "movies_df.head()"
      ],
      "execution_count": 4,
      "outputs": [
        {
          "output_type": "execute_result",
          "data": {
            "text/html": [
              "<div>\n",
              "<style scoped>\n",
              "    .dataframe tbody tr th:only-of-type {\n",
              "        vertical-align: middle;\n",
              "    }\n",
              "\n",
              "    .dataframe tbody tr th {\n",
              "        vertical-align: top;\n",
              "    }\n",
              "\n",
              "    .dataframe thead th {\n",
              "        text-align: right;\n",
              "    }\n",
              "</style>\n",
              "<table border=\"1\" class=\"dataframe\">\n",
              "  <thead>\n",
              "    <tr style=\"text-align: right;\">\n",
              "      <th></th>\n",
              "      <th>movieId</th>\n",
              "      <th>title</th>\n",
              "      <th>genres</th>\n",
              "      <th>year</th>\n",
              "    </tr>\n",
              "  </thead>\n",
              "  <tbody>\n",
              "    <tr>\n",
              "      <th>0</th>\n",
              "      <td>1</td>\n",
              "      <td>Toy Story</td>\n",
              "      <td>Adventure|Animation|Children|Comedy|Fantasy</td>\n",
              "      <td>1995</td>\n",
              "    </tr>\n",
              "    <tr>\n",
              "      <th>1</th>\n",
              "      <td>2</td>\n",
              "      <td>Jumanji</td>\n",
              "      <td>Adventure|Children|Fantasy</td>\n",
              "      <td>1995</td>\n",
              "    </tr>\n",
              "    <tr>\n",
              "      <th>2</th>\n",
              "      <td>3</td>\n",
              "      <td>Grumpier Old Men</td>\n",
              "      <td>Comedy|Romance</td>\n",
              "      <td>1995</td>\n",
              "    </tr>\n",
              "    <tr>\n",
              "      <th>3</th>\n",
              "      <td>4</td>\n",
              "      <td>Waiting to Exhale</td>\n",
              "      <td>Comedy|Drama|Romance</td>\n",
              "      <td>1995</td>\n",
              "    </tr>\n",
              "    <tr>\n",
              "      <th>4</th>\n",
              "      <td>5</td>\n",
              "      <td>Father of the Bride Part II</td>\n",
              "      <td>Comedy</td>\n",
              "      <td>1995</td>\n",
              "    </tr>\n",
              "  </tbody>\n",
              "</table>\n",
              "</div>"
            ],
            "text/plain": [
              "   movieId  ...  year\n",
              "0        1  ...  1995\n",
              "1        2  ...  1995\n",
              "2        3  ...  1995\n",
              "3        4  ...  1995\n",
              "4        5  ...  1995\n",
              "\n",
              "[5 rows x 4 columns]"
            ]
          },
          "metadata": {
            "tags": []
          },
          "execution_count": 4
        }
      ]
    },
    {
      "cell_type": "markdown",
      "metadata": {
        "id": "y1ahPg8Te2OR"
      },
      "source": [
        "With that, let's also split the values in the __Genres__ column into a __list of Genres__ to simplify future use. This can be achieved by applying Python's split string function on the correct column."
      ]
    },
    {
      "cell_type": "code",
      "metadata": {
        "scrolled": false,
        "id": "mwoeEdjre2OW",
        "outputId": "be285e50-1319-43e0-eea5-41ae8ec4d5cf",
        "colab": {
          "base_uri": "https://localhost:8080/",
          "height": 206
        }
      },
      "source": [
        "#Every genre is separated by a | so we simply have to call the split function on |\n",
        "movies_df['genres'] = movies_df.genres.str.split('|')\n",
        "movies_df.head()"
      ],
      "execution_count": 5,
      "outputs": [
        {
          "output_type": "execute_result",
          "data": {
            "text/html": [
              "<div>\n",
              "<style scoped>\n",
              "    .dataframe tbody tr th:only-of-type {\n",
              "        vertical-align: middle;\n",
              "    }\n",
              "\n",
              "    .dataframe tbody tr th {\n",
              "        vertical-align: top;\n",
              "    }\n",
              "\n",
              "    .dataframe thead th {\n",
              "        text-align: right;\n",
              "    }\n",
              "</style>\n",
              "<table border=\"1\" class=\"dataframe\">\n",
              "  <thead>\n",
              "    <tr style=\"text-align: right;\">\n",
              "      <th></th>\n",
              "      <th>movieId</th>\n",
              "      <th>title</th>\n",
              "      <th>genres</th>\n",
              "      <th>year</th>\n",
              "    </tr>\n",
              "  </thead>\n",
              "  <tbody>\n",
              "    <tr>\n",
              "      <th>0</th>\n",
              "      <td>1</td>\n",
              "      <td>Toy Story</td>\n",
              "      <td>[Adventure, Animation, Children, Comedy, Fantasy]</td>\n",
              "      <td>1995</td>\n",
              "    </tr>\n",
              "    <tr>\n",
              "      <th>1</th>\n",
              "      <td>2</td>\n",
              "      <td>Jumanji</td>\n",
              "      <td>[Adventure, Children, Fantasy]</td>\n",
              "      <td>1995</td>\n",
              "    </tr>\n",
              "    <tr>\n",
              "      <th>2</th>\n",
              "      <td>3</td>\n",
              "      <td>Grumpier Old Men</td>\n",
              "      <td>[Comedy, Romance]</td>\n",
              "      <td>1995</td>\n",
              "    </tr>\n",
              "    <tr>\n",
              "      <th>3</th>\n",
              "      <td>4</td>\n",
              "      <td>Waiting to Exhale</td>\n",
              "      <td>[Comedy, Drama, Romance]</td>\n",
              "      <td>1995</td>\n",
              "    </tr>\n",
              "    <tr>\n",
              "      <th>4</th>\n",
              "      <td>5</td>\n",
              "      <td>Father of the Bride Part II</td>\n",
              "      <td>[Comedy]</td>\n",
              "      <td>1995</td>\n",
              "    </tr>\n",
              "  </tbody>\n",
              "</table>\n",
              "</div>"
            ],
            "text/plain": [
              "   movieId  ...  year\n",
              "0        1  ...  1995\n",
              "1        2  ...  1995\n",
              "2        3  ...  1995\n",
              "3        4  ...  1995\n",
              "4        5  ...  1995\n",
              "\n",
              "[5 rows x 4 columns]"
            ]
          },
          "metadata": {
            "tags": []
          },
          "execution_count": 5
        }
      ]
    },
    {
      "cell_type": "markdown",
      "metadata": {
        "id": "FucYsbQSe2Oh"
      },
      "source": [
        "Since keeping genres in a list format isn't optimal for the content-based recommendation system technique, we will use the One Hot Encoding technique to convert the list of genres to a vector where each column corresponds to one possible value of the feature. This encoding is needed for feeding categorical data. In this case, we store every different genre in columns that contain either 1 or 0. 1 shows that a movie has that genre and 0 shows that it doesn't. Let's also store this dataframe in another variable since genres won't be important for our first recommendation system."
      ]
    },
    {
      "cell_type": "code",
      "metadata": {
        "id": "sXn8dFG1e2Oj",
        "outputId": "10329019-792c-4fe8-bce5-2372ec18344b",
        "colab": {
          "base_uri": "https://localhost:8080/",
          "height": 452
        }
      },
      "source": [
        "#Copying the movie dataframe into a new one since we won't need to use the genre information in our first case.\n",
        "moviesWithGenres_df = movies_df.copy()\n",
        "\n",
        "#For every row in the dataframe, iterate through the list of genres and place a 1 into the corresponding column\n",
        "for index, row in movies_df.iterrows():\n",
        "    for genre in row['genres']:\n",
        "        moviesWithGenres_df.at[index, genre] = 1\n",
        "#Filling in the NaN values with 0 to show that a movie doesn't have that column's genre\n",
        "moviesWithGenres_df = moviesWithGenres_df.fillna(0)\n",
        "moviesWithGenres_df.head()"
      ],
      "execution_count": 6,
      "outputs": [
        {
          "output_type": "execute_result",
          "data": {
            "text/html": [
              "<div>\n",
              "<style scoped>\n",
              "    .dataframe tbody tr th:only-of-type {\n",
              "        vertical-align: middle;\n",
              "    }\n",
              "\n",
              "    .dataframe tbody tr th {\n",
              "        vertical-align: top;\n",
              "    }\n",
              "\n",
              "    .dataframe thead th {\n",
              "        text-align: right;\n",
              "    }\n",
              "</style>\n",
              "<table border=\"1\" class=\"dataframe\">\n",
              "  <thead>\n",
              "    <tr style=\"text-align: right;\">\n",
              "      <th></th>\n",
              "      <th>movieId</th>\n",
              "      <th>title</th>\n",
              "      <th>genres</th>\n",
              "      <th>year</th>\n",
              "      <th>Adventure</th>\n",
              "      <th>Animation</th>\n",
              "      <th>Children</th>\n",
              "      <th>Comedy</th>\n",
              "      <th>Fantasy</th>\n",
              "      <th>Romance</th>\n",
              "      <th>Drama</th>\n",
              "      <th>Action</th>\n",
              "      <th>Crime</th>\n",
              "      <th>Thriller</th>\n",
              "      <th>Horror</th>\n",
              "      <th>Mystery</th>\n",
              "      <th>Sci-Fi</th>\n",
              "      <th>IMAX</th>\n",
              "      <th>Documentary</th>\n",
              "      <th>War</th>\n",
              "      <th>Musical</th>\n",
              "      <th>Western</th>\n",
              "      <th>Film-Noir</th>\n",
              "      <th>(no genres listed)</th>\n",
              "    </tr>\n",
              "  </thead>\n",
              "  <tbody>\n",
              "    <tr>\n",
              "      <th>0</th>\n",
              "      <td>1</td>\n",
              "      <td>Toy Story</td>\n",
              "      <td>[Adventure, Animation, Children, Comedy, Fantasy]</td>\n",
              "      <td>1995</td>\n",
              "      <td>1.0</td>\n",
              "      <td>1.0</td>\n",
              "      <td>1.0</td>\n",
              "      <td>1.0</td>\n",
              "      <td>1.0</td>\n",
              "      <td>0.0</td>\n",
              "      <td>0.0</td>\n",
              "      <td>0.0</td>\n",
              "      <td>0.0</td>\n",
              "      <td>0.0</td>\n",
              "      <td>0.0</td>\n",
              "      <td>0.0</td>\n",
              "      <td>0.0</td>\n",
              "      <td>0.0</td>\n",
              "      <td>0.0</td>\n",
              "      <td>0.0</td>\n",
              "      <td>0.0</td>\n",
              "      <td>0.0</td>\n",
              "      <td>0.0</td>\n",
              "      <td>0.0</td>\n",
              "    </tr>\n",
              "    <tr>\n",
              "      <th>1</th>\n",
              "      <td>2</td>\n",
              "      <td>Jumanji</td>\n",
              "      <td>[Adventure, Children, Fantasy]</td>\n",
              "      <td>1995</td>\n",
              "      <td>1.0</td>\n",
              "      <td>0.0</td>\n",
              "      <td>1.0</td>\n",
              "      <td>0.0</td>\n",
              "      <td>1.0</td>\n",
              "      <td>0.0</td>\n",
              "      <td>0.0</td>\n",
              "      <td>0.0</td>\n",
              "      <td>0.0</td>\n",
              "      <td>0.0</td>\n",
              "      <td>0.0</td>\n",
              "      <td>0.0</td>\n",
              "      <td>0.0</td>\n",
              "      <td>0.0</td>\n",
              "      <td>0.0</td>\n",
              "      <td>0.0</td>\n",
              "      <td>0.0</td>\n",
              "      <td>0.0</td>\n",
              "      <td>0.0</td>\n",
              "      <td>0.0</td>\n",
              "    </tr>\n",
              "    <tr>\n",
              "      <th>2</th>\n",
              "      <td>3</td>\n",
              "      <td>Grumpier Old Men</td>\n",
              "      <td>[Comedy, Romance]</td>\n",
              "      <td>1995</td>\n",
              "      <td>0.0</td>\n",
              "      <td>0.0</td>\n",
              "      <td>0.0</td>\n",
              "      <td>1.0</td>\n",
              "      <td>0.0</td>\n",
              "      <td>1.0</td>\n",
              "      <td>0.0</td>\n",
              "      <td>0.0</td>\n",
              "      <td>0.0</td>\n",
              "      <td>0.0</td>\n",
              "      <td>0.0</td>\n",
              "      <td>0.0</td>\n",
              "      <td>0.0</td>\n",
              "      <td>0.0</td>\n",
              "      <td>0.0</td>\n",
              "      <td>0.0</td>\n",
              "      <td>0.0</td>\n",
              "      <td>0.0</td>\n",
              "      <td>0.0</td>\n",
              "      <td>0.0</td>\n",
              "    </tr>\n",
              "    <tr>\n",
              "      <th>3</th>\n",
              "      <td>4</td>\n",
              "      <td>Waiting to Exhale</td>\n",
              "      <td>[Comedy, Drama, Romance]</td>\n",
              "      <td>1995</td>\n",
              "      <td>0.0</td>\n",
              "      <td>0.0</td>\n",
              "      <td>0.0</td>\n",
              "      <td>1.0</td>\n",
              "      <td>0.0</td>\n",
              "      <td>1.0</td>\n",
              "      <td>1.0</td>\n",
              "      <td>0.0</td>\n",
              "      <td>0.0</td>\n",
              "      <td>0.0</td>\n",
              "      <td>0.0</td>\n",
              "      <td>0.0</td>\n",
              "      <td>0.0</td>\n",
              "      <td>0.0</td>\n",
              "      <td>0.0</td>\n",
              "      <td>0.0</td>\n",
              "      <td>0.0</td>\n",
              "      <td>0.0</td>\n",
              "      <td>0.0</td>\n",
              "      <td>0.0</td>\n",
              "    </tr>\n",
              "    <tr>\n",
              "      <th>4</th>\n",
              "      <td>5</td>\n",
              "      <td>Father of the Bride Part II</td>\n",
              "      <td>[Comedy]</td>\n",
              "      <td>1995</td>\n",
              "      <td>0.0</td>\n",
              "      <td>0.0</td>\n",
              "      <td>0.0</td>\n",
              "      <td>1.0</td>\n",
              "      <td>0.0</td>\n",
              "      <td>0.0</td>\n",
              "      <td>0.0</td>\n",
              "      <td>0.0</td>\n",
              "      <td>0.0</td>\n",
              "      <td>0.0</td>\n",
              "      <td>0.0</td>\n",
              "      <td>0.0</td>\n",
              "      <td>0.0</td>\n",
              "      <td>0.0</td>\n",
              "      <td>0.0</td>\n",
              "      <td>0.0</td>\n",
              "      <td>0.0</td>\n",
              "      <td>0.0</td>\n",
              "      <td>0.0</td>\n",
              "      <td>0.0</td>\n",
              "    </tr>\n",
              "  </tbody>\n",
              "</table>\n",
              "</div>"
            ],
            "text/plain": [
              "   movieId                        title  ... Film-Noir (no genres listed)\n",
              "0        1                    Toy Story  ...       0.0                0.0\n",
              "1        2                      Jumanji  ...       0.0                0.0\n",
              "2        3             Grumpier Old Men  ...       0.0                0.0\n",
              "3        4            Waiting to Exhale  ...       0.0                0.0\n",
              "4        5  Father of the Bride Part II  ...       0.0                0.0\n",
              "\n",
              "[5 rows x 24 columns]"
            ]
          },
          "metadata": {
            "tags": []
          },
          "execution_count": 6
        }
      ]
    },
    {
      "cell_type": "markdown",
      "metadata": {
        "id": "FtW6OH7Ae2Os"
      },
      "source": [
        "Next, let's look at the ratings dataframe."
      ]
    },
    {
      "cell_type": "code",
      "metadata": {
        "id": "5IFZaNm6e2Ou",
        "outputId": "fc4e23fd-d3ee-4fa3-8312-9c2d72c2f001",
        "colab": {
          "base_uri": "https://localhost:8080/",
          "height": 206
        }
      },
      "source": [
        "ratings_df.head()"
      ],
      "execution_count": 7,
      "outputs": [
        {
          "output_type": "execute_result",
          "data": {
            "text/html": [
              "<div>\n",
              "<style scoped>\n",
              "    .dataframe tbody tr th:only-of-type {\n",
              "        vertical-align: middle;\n",
              "    }\n",
              "\n",
              "    .dataframe tbody tr th {\n",
              "        vertical-align: top;\n",
              "    }\n",
              "\n",
              "    .dataframe thead th {\n",
              "        text-align: right;\n",
              "    }\n",
              "</style>\n",
              "<table border=\"1\" class=\"dataframe\">\n",
              "  <thead>\n",
              "    <tr style=\"text-align: right;\">\n",
              "      <th></th>\n",
              "      <th>userId</th>\n",
              "      <th>movieId</th>\n",
              "      <th>rating</th>\n",
              "      <th>timestamp</th>\n",
              "    </tr>\n",
              "  </thead>\n",
              "  <tbody>\n",
              "    <tr>\n",
              "      <th>0</th>\n",
              "      <td>1</td>\n",
              "      <td>169</td>\n",
              "      <td>2.5</td>\n",
              "      <td>1204927694</td>\n",
              "    </tr>\n",
              "    <tr>\n",
              "      <th>1</th>\n",
              "      <td>1</td>\n",
              "      <td>2471</td>\n",
              "      <td>3.0</td>\n",
              "      <td>1204927438</td>\n",
              "    </tr>\n",
              "    <tr>\n",
              "      <th>2</th>\n",
              "      <td>1</td>\n",
              "      <td>48516</td>\n",
              "      <td>5.0</td>\n",
              "      <td>1204927435</td>\n",
              "    </tr>\n",
              "    <tr>\n",
              "      <th>3</th>\n",
              "      <td>2</td>\n",
              "      <td>2571</td>\n",
              "      <td>3.5</td>\n",
              "      <td>1436165433</td>\n",
              "    </tr>\n",
              "    <tr>\n",
              "      <th>4</th>\n",
              "      <td>2</td>\n",
              "      <td>109487</td>\n",
              "      <td>4.0</td>\n",
              "      <td>1436165496</td>\n",
              "    </tr>\n",
              "  </tbody>\n",
              "</table>\n",
              "</div>"
            ],
            "text/plain": [
              "   userId  movieId  rating   timestamp\n",
              "0       1      169     2.5  1204927694\n",
              "1       1     2471     3.0  1204927438\n",
              "2       1    48516     5.0  1204927435\n",
              "3       2     2571     3.5  1436165433\n",
              "4       2   109487     4.0  1436165496"
            ]
          },
          "metadata": {
            "tags": []
          },
          "execution_count": 7
        }
      ]
    },
    {
      "cell_type": "markdown",
      "metadata": {
        "id": "YDpm0yKBe2O7"
      },
      "source": [
        "Every row in the ratings dataframe has a user id associated with at least one movie, a rating and a timestamp showing when they reviewed it. We won't be needing the timestamp column, so let's drop it to save on memory."
      ]
    },
    {
      "cell_type": "code",
      "metadata": {
        "id": "IYe9qCSOe2O-",
        "outputId": "160faa1f-c5e4-4507-fd71-7a687d291535",
        "colab": {
          "base_uri": "https://localhost:8080/",
          "height": 206
        }
      },
      "source": [
        "#Drop removes a specified row or column from a dataframe\n",
        "ratings_df = ratings_df.drop('timestamp', 1)\n",
        "ratings_df.head()"
      ],
      "execution_count": 8,
      "outputs": [
        {
          "output_type": "execute_result",
          "data": {
            "text/html": [
              "<div>\n",
              "<style scoped>\n",
              "    .dataframe tbody tr th:only-of-type {\n",
              "        vertical-align: middle;\n",
              "    }\n",
              "\n",
              "    .dataframe tbody tr th {\n",
              "        vertical-align: top;\n",
              "    }\n",
              "\n",
              "    .dataframe thead th {\n",
              "        text-align: right;\n",
              "    }\n",
              "</style>\n",
              "<table border=\"1\" class=\"dataframe\">\n",
              "  <thead>\n",
              "    <tr style=\"text-align: right;\">\n",
              "      <th></th>\n",
              "      <th>userId</th>\n",
              "      <th>movieId</th>\n",
              "      <th>rating</th>\n",
              "    </tr>\n",
              "  </thead>\n",
              "  <tbody>\n",
              "    <tr>\n",
              "      <th>0</th>\n",
              "      <td>1</td>\n",
              "      <td>169</td>\n",
              "      <td>2.5</td>\n",
              "    </tr>\n",
              "    <tr>\n",
              "      <th>1</th>\n",
              "      <td>1</td>\n",
              "      <td>2471</td>\n",
              "      <td>3.0</td>\n",
              "    </tr>\n",
              "    <tr>\n",
              "      <th>2</th>\n",
              "      <td>1</td>\n",
              "      <td>48516</td>\n",
              "      <td>5.0</td>\n",
              "    </tr>\n",
              "    <tr>\n",
              "      <th>3</th>\n",
              "      <td>2</td>\n",
              "      <td>2571</td>\n",
              "      <td>3.5</td>\n",
              "    </tr>\n",
              "    <tr>\n",
              "      <th>4</th>\n",
              "      <td>2</td>\n",
              "      <td>109487</td>\n",
              "      <td>4.0</td>\n",
              "    </tr>\n",
              "  </tbody>\n",
              "</table>\n",
              "</div>"
            ],
            "text/plain": [
              "   userId  movieId  rating\n",
              "0       1      169     2.5\n",
              "1       1     2471     3.0\n",
              "2       1    48516     5.0\n",
              "3       2     2571     3.5\n",
              "4       2   109487     4.0"
            ]
          },
          "metadata": {
            "tags": []
          },
          "execution_count": 8
        }
      ]
    },
    {
      "cell_type": "markdown",
      "metadata": {
        "id": "kpimfEyVe2PI"
      },
      "source": [
        "<a id=\"ref3\"></a>\n",
        "# Content-Based recommendation system"
      ]
    },
    {
      "cell_type": "markdown",
      "metadata": {
        "id": "lR_4a1QPe2PJ"
      },
      "source": [
        "Now, let's take a look at how to implement __Content-Based__ or __Item-Item recommendation systems__. This technique attempts to figure out what a user's favourite aspects of an item is, and then recommends items that present those aspects. In our case, we're going to try to figure out the input's favorite genres from the movies and ratings given.\n",
        "\n",
        "Let's begin by creating an input user to recommend movies to:\n",
        "\n",
        "Notice: To add more movies, simply increase the amount of elements in the __userInput__. Feel free to add more in! Just be sure to write it in with capital letters and if a movie starts with a \"The\", like \"The Matrix\" then write it in like this: 'Matrix, The' ."
      ]
    },
    {
      "cell_type": "code",
      "metadata": {
        "id": "_5ydeChJe2PM",
        "outputId": "e0393e89-3896-43e8-d05d-d4263ce928f7",
        "colab": {
          "base_uri": "https://localhost:8080/",
          "height": 206
        }
      },
      "source": [
        "userInput = [\n",
        "            {'title':'Breakfast Club, The', 'rating':5},\n",
        "            {'title':'Toy Story', 'rating':3.5},\n",
        "            {'title':'Jumanji', 'rating':2},\n",
        "            {'title':\"Pulp Fiction\", 'rating':5},\n",
        "            {'title':'Akira', 'rating':4.5}\n",
        "         ] \n",
        "inputMovies = pd.DataFrame(userInput)\n",
        "inputMovies"
      ],
      "execution_count": 9,
      "outputs": [
        {
          "output_type": "execute_result",
          "data": {
            "text/html": [
              "<div>\n",
              "<style scoped>\n",
              "    .dataframe tbody tr th:only-of-type {\n",
              "        vertical-align: middle;\n",
              "    }\n",
              "\n",
              "    .dataframe tbody tr th {\n",
              "        vertical-align: top;\n",
              "    }\n",
              "\n",
              "    .dataframe thead th {\n",
              "        text-align: right;\n",
              "    }\n",
              "</style>\n",
              "<table border=\"1\" class=\"dataframe\">\n",
              "  <thead>\n",
              "    <tr style=\"text-align: right;\">\n",
              "      <th></th>\n",
              "      <th>title</th>\n",
              "      <th>rating</th>\n",
              "    </tr>\n",
              "  </thead>\n",
              "  <tbody>\n",
              "    <tr>\n",
              "      <th>0</th>\n",
              "      <td>Breakfast Club, The</td>\n",
              "      <td>5.0</td>\n",
              "    </tr>\n",
              "    <tr>\n",
              "      <th>1</th>\n",
              "      <td>Toy Story</td>\n",
              "      <td>3.5</td>\n",
              "    </tr>\n",
              "    <tr>\n",
              "      <th>2</th>\n",
              "      <td>Jumanji</td>\n",
              "      <td>2.0</td>\n",
              "    </tr>\n",
              "    <tr>\n",
              "      <th>3</th>\n",
              "      <td>Pulp Fiction</td>\n",
              "      <td>5.0</td>\n",
              "    </tr>\n",
              "    <tr>\n",
              "      <th>4</th>\n",
              "      <td>Akira</td>\n",
              "      <td>4.5</td>\n",
              "    </tr>\n",
              "  </tbody>\n",
              "</table>\n",
              "</div>"
            ],
            "text/plain": [
              "                 title  rating\n",
              "0  Breakfast Club, The     5.0\n",
              "1            Toy Story     3.5\n",
              "2              Jumanji     2.0\n",
              "3         Pulp Fiction     5.0\n",
              "4                Akira     4.5"
            ]
          },
          "metadata": {
            "tags": []
          },
          "execution_count": 9
        }
      ]
    },
    {
      "cell_type": "markdown",
      "metadata": {
        "id": "YTFo1PjYe2PW"
      },
      "source": [
        "#### Add movieId to input user\n",
        "With the input complete, let's extract the input movies's ID's from the movies dataframe and add them into it.\n",
        "\n",
        "We can achieve this by first filtering out the rows that contain the input movies' title and then merging this subset with the input dataframe. We also drop unnecessary columns for the input to save memory space."
      ]
    },
    {
      "cell_type": "code",
      "metadata": {
        "scrolled": true,
        "id": "VeQ20j-ve2PY",
        "outputId": "d194e9fe-c990-48cd-e2be-ca6d141dbc55",
        "colab": {
          "base_uri": "https://localhost:8080/",
          "height": 206
        }
      },
      "source": [
        "#Filtering out the movies by title\n",
        "inputId = movies_df[movies_df['title'].isin(inputMovies['title'].tolist())]\n",
        "#Then merging it so we can get the movieId. It's implicitly merging it by title.\n",
        "inputMovies = pd.merge(inputId, inputMovies)\n",
        "#Dropping information we won't use from the input dataframe\n",
        "inputMovies = inputMovies.drop('genres', 1).drop('year', 1)\n",
        "#Final input dataframe\n",
        "#If a movie you added in above isn't here, then it might not be in the original \n",
        "#dataframe or it might spelled differently, please check capitalisation.\n",
        "inputMovies"
      ],
      "execution_count": 10,
      "outputs": [
        {
          "output_type": "execute_result",
          "data": {
            "text/html": [
              "<div>\n",
              "<style scoped>\n",
              "    .dataframe tbody tr th:only-of-type {\n",
              "        vertical-align: middle;\n",
              "    }\n",
              "\n",
              "    .dataframe tbody tr th {\n",
              "        vertical-align: top;\n",
              "    }\n",
              "\n",
              "    .dataframe thead th {\n",
              "        text-align: right;\n",
              "    }\n",
              "</style>\n",
              "<table border=\"1\" class=\"dataframe\">\n",
              "  <thead>\n",
              "    <tr style=\"text-align: right;\">\n",
              "      <th></th>\n",
              "      <th>movieId</th>\n",
              "      <th>title</th>\n",
              "      <th>rating</th>\n",
              "    </tr>\n",
              "  </thead>\n",
              "  <tbody>\n",
              "    <tr>\n",
              "      <th>0</th>\n",
              "      <td>1</td>\n",
              "      <td>Toy Story</td>\n",
              "      <td>3.5</td>\n",
              "    </tr>\n",
              "    <tr>\n",
              "      <th>1</th>\n",
              "      <td>2</td>\n",
              "      <td>Jumanji</td>\n",
              "      <td>2.0</td>\n",
              "    </tr>\n",
              "    <tr>\n",
              "      <th>2</th>\n",
              "      <td>296</td>\n",
              "      <td>Pulp Fiction</td>\n",
              "      <td>5.0</td>\n",
              "    </tr>\n",
              "    <tr>\n",
              "      <th>3</th>\n",
              "      <td>1274</td>\n",
              "      <td>Akira</td>\n",
              "      <td>4.5</td>\n",
              "    </tr>\n",
              "    <tr>\n",
              "      <th>4</th>\n",
              "      <td>1968</td>\n",
              "      <td>Breakfast Club, The</td>\n",
              "      <td>5.0</td>\n",
              "    </tr>\n",
              "  </tbody>\n",
              "</table>\n",
              "</div>"
            ],
            "text/plain": [
              "   movieId                title  rating\n",
              "0        1            Toy Story     3.5\n",
              "1        2              Jumanji     2.0\n",
              "2      296         Pulp Fiction     5.0\n",
              "3     1274                Akira     4.5\n",
              "4     1968  Breakfast Club, The     5.0"
            ]
          },
          "metadata": {
            "tags": []
          },
          "execution_count": 10
        }
      ]
    },
    {
      "cell_type": "markdown",
      "metadata": {
        "id": "wYCUbWZ_e2Pk"
      },
      "source": [
        "We're going to start by learning the input's preferences, so let's get the subset of movies that the input has watched from the Dataframe containing genres defined with binary values."
      ]
    },
    {
      "cell_type": "code",
      "metadata": {
        "id": "u38s4q7ee2Pm",
        "outputId": "86dfdbb8-0aa1-4e54-e153-305ed6dca568",
        "colab": {
          "base_uri": "https://localhost:8080/",
          "height": 504
        }
      },
      "source": [
        "#Filtering out the movies from the input\n",
        "userMovies = moviesWithGenres_df[moviesWithGenres_df['movieId'].isin(inputMovies['movieId'].tolist())]\n",
        "userMovies"
      ],
      "execution_count": 11,
      "outputs": [
        {
          "output_type": "execute_result",
          "data": {
            "text/html": [
              "<div>\n",
              "<style scoped>\n",
              "    .dataframe tbody tr th:only-of-type {\n",
              "        vertical-align: middle;\n",
              "    }\n",
              "\n",
              "    .dataframe tbody tr th {\n",
              "        vertical-align: top;\n",
              "    }\n",
              "\n",
              "    .dataframe thead th {\n",
              "        text-align: right;\n",
              "    }\n",
              "</style>\n",
              "<table border=\"1\" class=\"dataframe\">\n",
              "  <thead>\n",
              "    <tr style=\"text-align: right;\">\n",
              "      <th></th>\n",
              "      <th>movieId</th>\n",
              "      <th>title</th>\n",
              "      <th>genres</th>\n",
              "      <th>year</th>\n",
              "      <th>Adventure</th>\n",
              "      <th>Animation</th>\n",
              "      <th>Children</th>\n",
              "      <th>Comedy</th>\n",
              "      <th>Fantasy</th>\n",
              "      <th>Romance</th>\n",
              "      <th>Drama</th>\n",
              "      <th>Action</th>\n",
              "      <th>Crime</th>\n",
              "      <th>Thriller</th>\n",
              "      <th>Horror</th>\n",
              "      <th>Mystery</th>\n",
              "      <th>Sci-Fi</th>\n",
              "      <th>IMAX</th>\n",
              "      <th>Documentary</th>\n",
              "      <th>War</th>\n",
              "      <th>Musical</th>\n",
              "      <th>Western</th>\n",
              "      <th>Film-Noir</th>\n",
              "      <th>(no genres listed)</th>\n",
              "    </tr>\n",
              "  </thead>\n",
              "  <tbody>\n",
              "    <tr>\n",
              "      <th>0</th>\n",
              "      <td>1</td>\n",
              "      <td>Toy Story</td>\n",
              "      <td>[Adventure, Animation, Children, Comedy, Fantasy]</td>\n",
              "      <td>1995</td>\n",
              "      <td>1.0</td>\n",
              "      <td>1.0</td>\n",
              "      <td>1.0</td>\n",
              "      <td>1.0</td>\n",
              "      <td>1.0</td>\n",
              "      <td>0.0</td>\n",
              "      <td>0.0</td>\n",
              "      <td>0.0</td>\n",
              "      <td>0.0</td>\n",
              "      <td>0.0</td>\n",
              "      <td>0.0</td>\n",
              "      <td>0.0</td>\n",
              "      <td>0.0</td>\n",
              "      <td>0.0</td>\n",
              "      <td>0.0</td>\n",
              "      <td>0.0</td>\n",
              "      <td>0.0</td>\n",
              "      <td>0.0</td>\n",
              "      <td>0.0</td>\n",
              "      <td>0.0</td>\n",
              "    </tr>\n",
              "    <tr>\n",
              "      <th>1</th>\n",
              "      <td>2</td>\n",
              "      <td>Jumanji</td>\n",
              "      <td>[Adventure, Children, Fantasy]</td>\n",
              "      <td>1995</td>\n",
              "      <td>1.0</td>\n",
              "      <td>0.0</td>\n",
              "      <td>1.0</td>\n",
              "      <td>0.0</td>\n",
              "      <td>1.0</td>\n",
              "      <td>0.0</td>\n",
              "      <td>0.0</td>\n",
              "      <td>0.0</td>\n",
              "      <td>0.0</td>\n",
              "      <td>0.0</td>\n",
              "      <td>0.0</td>\n",
              "      <td>0.0</td>\n",
              "      <td>0.0</td>\n",
              "      <td>0.0</td>\n",
              "      <td>0.0</td>\n",
              "      <td>0.0</td>\n",
              "      <td>0.0</td>\n",
              "      <td>0.0</td>\n",
              "      <td>0.0</td>\n",
              "      <td>0.0</td>\n",
              "    </tr>\n",
              "    <tr>\n",
              "      <th>293</th>\n",
              "      <td>296</td>\n",
              "      <td>Pulp Fiction</td>\n",
              "      <td>[Comedy, Crime, Drama, Thriller]</td>\n",
              "      <td>1994</td>\n",
              "      <td>0.0</td>\n",
              "      <td>0.0</td>\n",
              "      <td>0.0</td>\n",
              "      <td>1.0</td>\n",
              "      <td>0.0</td>\n",
              "      <td>0.0</td>\n",
              "      <td>1.0</td>\n",
              "      <td>0.0</td>\n",
              "      <td>1.0</td>\n",
              "      <td>1.0</td>\n",
              "      <td>0.0</td>\n",
              "      <td>0.0</td>\n",
              "      <td>0.0</td>\n",
              "      <td>0.0</td>\n",
              "      <td>0.0</td>\n",
              "      <td>0.0</td>\n",
              "      <td>0.0</td>\n",
              "      <td>0.0</td>\n",
              "      <td>0.0</td>\n",
              "      <td>0.0</td>\n",
              "    </tr>\n",
              "    <tr>\n",
              "      <th>1246</th>\n",
              "      <td>1274</td>\n",
              "      <td>Akira</td>\n",
              "      <td>[Action, Adventure, Animation, Sci-Fi]</td>\n",
              "      <td>1988</td>\n",
              "      <td>1.0</td>\n",
              "      <td>1.0</td>\n",
              "      <td>0.0</td>\n",
              "      <td>0.0</td>\n",
              "      <td>0.0</td>\n",
              "      <td>0.0</td>\n",
              "      <td>0.0</td>\n",
              "      <td>1.0</td>\n",
              "      <td>0.0</td>\n",
              "      <td>0.0</td>\n",
              "      <td>0.0</td>\n",
              "      <td>0.0</td>\n",
              "      <td>1.0</td>\n",
              "      <td>0.0</td>\n",
              "      <td>0.0</td>\n",
              "      <td>0.0</td>\n",
              "      <td>0.0</td>\n",
              "      <td>0.0</td>\n",
              "      <td>0.0</td>\n",
              "      <td>0.0</td>\n",
              "    </tr>\n",
              "    <tr>\n",
              "      <th>1885</th>\n",
              "      <td>1968</td>\n",
              "      <td>Breakfast Club, The</td>\n",
              "      <td>[Comedy, Drama]</td>\n",
              "      <td>1985</td>\n",
              "      <td>0.0</td>\n",
              "      <td>0.0</td>\n",
              "      <td>0.0</td>\n",
              "      <td>1.0</td>\n",
              "      <td>0.0</td>\n",
              "      <td>0.0</td>\n",
              "      <td>1.0</td>\n",
              "      <td>0.0</td>\n",
              "      <td>0.0</td>\n",
              "      <td>0.0</td>\n",
              "      <td>0.0</td>\n",
              "      <td>0.0</td>\n",
              "      <td>0.0</td>\n",
              "      <td>0.0</td>\n",
              "      <td>0.0</td>\n",
              "      <td>0.0</td>\n",
              "      <td>0.0</td>\n",
              "      <td>0.0</td>\n",
              "      <td>0.0</td>\n",
              "      <td>0.0</td>\n",
              "    </tr>\n",
              "  </tbody>\n",
              "</table>\n",
              "</div>"
            ],
            "text/plain": [
              "      movieId                title  ... Film-Noir (no genres listed)\n",
              "0           1            Toy Story  ...       0.0                0.0\n",
              "1           2              Jumanji  ...       0.0                0.0\n",
              "293       296         Pulp Fiction  ...       0.0                0.0\n",
              "1246     1274                Akira  ...       0.0                0.0\n",
              "1885     1968  Breakfast Club, The  ...       0.0                0.0\n",
              "\n",
              "[5 rows x 24 columns]"
            ]
          },
          "metadata": {
            "tags": []
          },
          "execution_count": 11
        }
      ]
    },
    {
      "cell_type": "markdown",
      "metadata": {
        "id": "E8MuFnFPe2Pv"
      },
      "source": [
        "We'll only need the actual genre table, so let's clean this up a bit by resetting the index and dropping the movieId, title, genres and year columns."
      ]
    },
    {
      "cell_type": "code",
      "metadata": {
        "id": "TkcU07u-e2Px",
        "outputId": "475a4313-1eae-4ebc-9232-0b9b58ea1e06",
        "colab": {
          "base_uri": "https://localhost:8080/",
          "height": 261
        }
      },
      "source": [
        "#Resetting the index to avoid future issues\n",
        "userMovies = userMovies.reset_index(drop=True)\n",
        "#Dropping unnecessary issues due to save memory and to avoid issues\n",
        "userGenreTable = userMovies.drop('movieId', 1).drop('title', 1).drop('genres', 1).drop('year', 1)\n",
        "userGenreTable"
      ],
      "execution_count": 12,
      "outputs": [
        {
          "output_type": "execute_result",
          "data": {
            "text/html": [
              "<div>\n",
              "<style scoped>\n",
              "    .dataframe tbody tr th:only-of-type {\n",
              "        vertical-align: middle;\n",
              "    }\n",
              "\n",
              "    .dataframe tbody tr th {\n",
              "        vertical-align: top;\n",
              "    }\n",
              "\n",
              "    .dataframe thead th {\n",
              "        text-align: right;\n",
              "    }\n",
              "</style>\n",
              "<table border=\"1\" class=\"dataframe\">\n",
              "  <thead>\n",
              "    <tr style=\"text-align: right;\">\n",
              "      <th></th>\n",
              "      <th>Adventure</th>\n",
              "      <th>Animation</th>\n",
              "      <th>Children</th>\n",
              "      <th>Comedy</th>\n",
              "      <th>Fantasy</th>\n",
              "      <th>Romance</th>\n",
              "      <th>Drama</th>\n",
              "      <th>Action</th>\n",
              "      <th>Crime</th>\n",
              "      <th>Thriller</th>\n",
              "      <th>Horror</th>\n",
              "      <th>Mystery</th>\n",
              "      <th>Sci-Fi</th>\n",
              "      <th>IMAX</th>\n",
              "      <th>Documentary</th>\n",
              "      <th>War</th>\n",
              "      <th>Musical</th>\n",
              "      <th>Western</th>\n",
              "      <th>Film-Noir</th>\n",
              "      <th>(no genres listed)</th>\n",
              "    </tr>\n",
              "  </thead>\n",
              "  <tbody>\n",
              "    <tr>\n",
              "      <th>0</th>\n",
              "      <td>1.0</td>\n",
              "      <td>1.0</td>\n",
              "      <td>1.0</td>\n",
              "      <td>1.0</td>\n",
              "      <td>1.0</td>\n",
              "      <td>0.0</td>\n",
              "      <td>0.0</td>\n",
              "      <td>0.0</td>\n",
              "      <td>0.0</td>\n",
              "      <td>0.0</td>\n",
              "      <td>0.0</td>\n",
              "      <td>0.0</td>\n",
              "      <td>0.0</td>\n",
              "      <td>0.0</td>\n",
              "      <td>0.0</td>\n",
              "      <td>0.0</td>\n",
              "      <td>0.0</td>\n",
              "      <td>0.0</td>\n",
              "      <td>0.0</td>\n",
              "      <td>0.0</td>\n",
              "    </tr>\n",
              "    <tr>\n",
              "      <th>1</th>\n",
              "      <td>1.0</td>\n",
              "      <td>0.0</td>\n",
              "      <td>1.0</td>\n",
              "      <td>0.0</td>\n",
              "      <td>1.0</td>\n",
              "      <td>0.0</td>\n",
              "      <td>0.0</td>\n",
              "      <td>0.0</td>\n",
              "      <td>0.0</td>\n",
              "      <td>0.0</td>\n",
              "      <td>0.0</td>\n",
              "      <td>0.0</td>\n",
              "      <td>0.0</td>\n",
              "      <td>0.0</td>\n",
              "      <td>0.0</td>\n",
              "      <td>0.0</td>\n",
              "      <td>0.0</td>\n",
              "      <td>0.0</td>\n",
              "      <td>0.0</td>\n",
              "      <td>0.0</td>\n",
              "    </tr>\n",
              "    <tr>\n",
              "      <th>2</th>\n",
              "      <td>0.0</td>\n",
              "      <td>0.0</td>\n",
              "      <td>0.0</td>\n",
              "      <td>1.0</td>\n",
              "      <td>0.0</td>\n",
              "      <td>0.0</td>\n",
              "      <td>1.0</td>\n",
              "      <td>0.0</td>\n",
              "      <td>1.0</td>\n",
              "      <td>1.0</td>\n",
              "      <td>0.0</td>\n",
              "      <td>0.0</td>\n",
              "      <td>0.0</td>\n",
              "      <td>0.0</td>\n",
              "      <td>0.0</td>\n",
              "      <td>0.0</td>\n",
              "      <td>0.0</td>\n",
              "      <td>0.0</td>\n",
              "      <td>0.0</td>\n",
              "      <td>0.0</td>\n",
              "    </tr>\n",
              "    <tr>\n",
              "      <th>3</th>\n",
              "      <td>1.0</td>\n",
              "      <td>1.0</td>\n",
              "      <td>0.0</td>\n",
              "      <td>0.0</td>\n",
              "      <td>0.0</td>\n",
              "      <td>0.0</td>\n",
              "      <td>0.0</td>\n",
              "      <td>1.0</td>\n",
              "      <td>0.0</td>\n",
              "      <td>0.0</td>\n",
              "      <td>0.0</td>\n",
              "      <td>0.0</td>\n",
              "      <td>1.0</td>\n",
              "      <td>0.0</td>\n",
              "      <td>0.0</td>\n",
              "      <td>0.0</td>\n",
              "      <td>0.0</td>\n",
              "      <td>0.0</td>\n",
              "      <td>0.0</td>\n",
              "      <td>0.0</td>\n",
              "    </tr>\n",
              "    <tr>\n",
              "      <th>4</th>\n",
              "      <td>0.0</td>\n",
              "      <td>0.0</td>\n",
              "      <td>0.0</td>\n",
              "      <td>1.0</td>\n",
              "      <td>0.0</td>\n",
              "      <td>0.0</td>\n",
              "      <td>1.0</td>\n",
              "      <td>0.0</td>\n",
              "      <td>0.0</td>\n",
              "      <td>0.0</td>\n",
              "      <td>0.0</td>\n",
              "      <td>0.0</td>\n",
              "      <td>0.0</td>\n",
              "      <td>0.0</td>\n",
              "      <td>0.0</td>\n",
              "      <td>0.0</td>\n",
              "      <td>0.0</td>\n",
              "      <td>0.0</td>\n",
              "      <td>0.0</td>\n",
              "      <td>0.0</td>\n",
              "    </tr>\n",
              "  </tbody>\n",
              "</table>\n",
              "</div>"
            ],
            "text/plain": [
              "   Adventure  Animation  Children  ...  Western  Film-Noir  (no genres listed)\n",
              "0        1.0        1.0       1.0  ...      0.0        0.0                 0.0\n",
              "1        1.0        0.0       1.0  ...      0.0        0.0                 0.0\n",
              "2        0.0        0.0       0.0  ...      0.0        0.0                 0.0\n",
              "3        1.0        1.0       0.0  ...      0.0        0.0                 0.0\n",
              "4        0.0        0.0       0.0  ...      0.0        0.0                 0.0\n",
              "\n",
              "[5 rows x 20 columns]"
            ]
          },
          "metadata": {
            "tags": []
          },
          "execution_count": 12
        }
      ]
    },
    {
      "cell_type": "markdown",
      "metadata": {
        "id": "0Ve9tvK1e2P8"
      },
      "source": [
        "Now we're ready to start learning the input's preferences!\n",
        "\n",
        "To do this, we're going to turn each genre into weights. We can do this by using the input's reviews and multiplying them into the input's genre table and then summing up the resulting table by column. This operation is actually a dot product between a matrix and a vector, so we can simply accomplish by calling Pandas's \"dot\" function."
      ]
    },
    {
      "cell_type": "code",
      "metadata": {
        "id": "vF4tMAURe2P-",
        "outputId": "1afa2506-4073-4780-dc78-0e21c5770687",
        "colab": {
          "base_uri": "https://localhost:8080/",
          "height": 127
        }
      },
      "source": [
        "inputMovies['rating']"
      ],
      "execution_count": 13,
      "outputs": [
        {
          "output_type": "execute_result",
          "data": {
            "text/plain": [
              "0    3.5\n",
              "1    2.0\n",
              "2    5.0\n",
              "3    4.5\n",
              "4    5.0\n",
              "Name: rating, dtype: float64"
            ]
          },
          "metadata": {
            "tags": []
          },
          "execution_count": 13
        }
      ]
    },
    {
      "cell_type": "code",
      "metadata": {
        "id": "TY_aOj17e2QK",
        "outputId": "d3b16219-19ab-4bc4-e83e-9819634bfdfe",
        "colab": {
          "base_uri": "https://localhost:8080/",
          "height": 403
        }
      },
      "source": [
        "#Dot produt to get weights\n",
        "userProfile = userGenreTable.transpose().dot(inputMovies['rating'])\n",
        "#The user profile\n",
        "userProfile"
      ],
      "execution_count": 14,
      "outputs": [
        {
          "output_type": "execute_result",
          "data": {
            "text/plain": [
              "Adventure             10.0\n",
              "Animation              8.0\n",
              "Children               5.5\n",
              "Comedy                13.5\n",
              "Fantasy                5.5\n",
              "Romance                0.0\n",
              "Drama                 10.0\n",
              "Action                 4.5\n",
              "Crime                  5.0\n",
              "Thriller               5.0\n",
              "Horror                 0.0\n",
              "Mystery                0.0\n",
              "Sci-Fi                 4.5\n",
              "IMAX                   0.0\n",
              "Documentary            0.0\n",
              "War                    0.0\n",
              "Musical                0.0\n",
              "Western                0.0\n",
              "Film-Noir              0.0\n",
              "(no genres listed)     0.0\n",
              "dtype: float64"
            ]
          },
          "metadata": {
            "tags": []
          },
          "execution_count": 14
        }
      ]
    },
    {
      "cell_type": "markdown",
      "metadata": {
        "id": "PVj95-Zde2QS"
      },
      "source": [
        "Now, we have the weights for every of the user's preferences. This is known as the User Profile. Using this, we can recommend movies that satisfy the user's preferences."
      ]
    },
    {
      "cell_type": "markdown",
      "metadata": {
        "id": "XFWixHz7e2QY"
      },
      "source": [
        "Let's start by extracting the genre table from the original dataframe:"
      ]
    },
    {
      "cell_type": "code",
      "metadata": {
        "id": "GP3LZsq4e2Qa",
        "outputId": "adfc6aac-5044-4361-93e6-662d566d2fd8",
        "colab": {
          "base_uri": "https://localhost:8080/",
          "height": 292
        }
      },
      "source": [
        "#Now let's get the genres of every movie in our original dataframe\n",
        "genreTable = moviesWithGenres_df.set_index(moviesWithGenres_df['movieId'])\n",
        "#And drop the unnecessary information\n",
        "genreTable = genreTable.drop('movieId', 1).drop('title', 1).drop('genres', 1).drop('year', 1)\n",
        "genreTable.head()"
      ],
      "execution_count": 15,
      "outputs": [
        {
          "output_type": "execute_result",
          "data": {
            "text/html": [
              "<div>\n",
              "<style scoped>\n",
              "    .dataframe tbody tr th:only-of-type {\n",
              "        vertical-align: middle;\n",
              "    }\n",
              "\n",
              "    .dataframe tbody tr th {\n",
              "        vertical-align: top;\n",
              "    }\n",
              "\n",
              "    .dataframe thead th {\n",
              "        text-align: right;\n",
              "    }\n",
              "</style>\n",
              "<table border=\"1\" class=\"dataframe\">\n",
              "  <thead>\n",
              "    <tr style=\"text-align: right;\">\n",
              "      <th></th>\n",
              "      <th>Adventure</th>\n",
              "      <th>Animation</th>\n",
              "      <th>Children</th>\n",
              "      <th>Comedy</th>\n",
              "      <th>Fantasy</th>\n",
              "      <th>Romance</th>\n",
              "      <th>Drama</th>\n",
              "      <th>Action</th>\n",
              "      <th>Crime</th>\n",
              "      <th>Thriller</th>\n",
              "      <th>Horror</th>\n",
              "      <th>Mystery</th>\n",
              "      <th>Sci-Fi</th>\n",
              "      <th>IMAX</th>\n",
              "      <th>Documentary</th>\n",
              "      <th>War</th>\n",
              "      <th>Musical</th>\n",
              "      <th>Western</th>\n",
              "      <th>Film-Noir</th>\n",
              "      <th>(no genres listed)</th>\n",
              "    </tr>\n",
              "    <tr>\n",
              "      <th>movieId</th>\n",
              "      <th></th>\n",
              "      <th></th>\n",
              "      <th></th>\n",
              "      <th></th>\n",
              "      <th></th>\n",
              "      <th></th>\n",
              "      <th></th>\n",
              "      <th></th>\n",
              "      <th></th>\n",
              "      <th></th>\n",
              "      <th></th>\n",
              "      <th></th>\n",
              "      <th></th>\n",
              "      <th></th>\n",
              "      <th></th>\n",
              "      <th></th>\n",
              "      <th></th>\n",
              "      <th></th>\n",
              "      <th></th>\n",
              "      <th></th>\n",
              "    </tr>\n",
              "  </thead>\n",
              "  <tbody>\n",
              "    <tr>\n",
              "      <th>1</th>\n",
              "      <td>1.0</td>\n",
              "      <td>1.0</td>\n",
              "      <td>1.0</td>\n",
              "      <td>1.0</td>\n",
              "      <td>1.0</td>\n",
              "      <td>0.0</td>\n",
              "      <td>0.0</td>\n",
              "      <td>0.0</td>\n",
              "      <td>0.0</td>\n",
              "      <td>0.0</td>\n",
              "      <td>0.0</td>\n",
              "      <td>0.0</td>\n",
              "      <td>0.0</td>\n",
              "      <td>0.0</td>\n",
              "      <td>0.0</td>\n",
              "      <td>0.0</td>\n",
              "      <td>0.0</td>\n",
              "      <td>0.0</td>\n",
              "      <td>0.0</td>\n",
              "      <td>0.0</td>\n",
              "    </tr>\n",
              "    <tr>\n",
              "      <th>2</th>\n",
              "      <td>1.0</td>\n",
              "      <td>0.0</td>\n",
              "      <td>1.0</td>\n",
              "      <td>0.0</td>\n",
              "      <td>1.0</td>\n",
              "      <td>0.0</td>\n",
              "      <td>0.0</td>\n",
              "      <td>0.0</td>\n",
              "      <td>0.0</td>\n",
              "      <td>0.0</td>\n",
              "      <td>0.0</td>\n",
              "      <td>0.0</td>\n",
              "      <td>0.0</td>\n",
              "      <td>0.0</td>\n",
              "      <td>0.0</td>\n",
              "      <td>0.0</td>\n",
              "      <td>0.0</td>\n",
              "      <td>0.0</td>\n",
              "      <td>0.0</td>\n",
              "      <td>0.0</td>\n",
              "    </tr>\n",
              "    <tr>\n",
              "      <th>3</th>\n",
              "      <td>0.0</td>\n",
              "      <td>0.0</td>\n",
              "      <td>0.0</td>\n",
              "      <td>1.0</td>\n",
              "      <td>0.0</td>\n",
              "      <td>1.0</td>\n",
              "      <td>0.0</td>\n",
              "      <td>0.0</td>\n",
              "      <td>0.0</td>\n",
              "      <td>0.0</td>\n",
              "      <td>0.0</td>\n",
              "      <td>0.0</td>\n",
              "      <td>0.0</td>\n",
              "      <td>0.0</td>\n",
              "      <td>0.0</td>\n",
              "      <td>0.0</td>\n",
              "      <td>0.0</td>\n",
              "      <td>0.0</td>\n",
              "      <td>0.0</td>\n",
              "      <td>0.0</td>\n",
              "    </tr>\n",
              "    <tr>\n",
              "      <th>4</th>\n",
              "      <td>0.0</td>\n",
              "      <td>0.0</td>\n",
              "      <td>0.0</td>\n",
              "      <td>1.0</td>\n",
              "      <td>0.0</td>\n",
              "      <td>1.0</td>\n",
              "      <td>1.0</td>\n",
              "      <td>0.0</td>\n",
              "      <td>0.0</td>\n",
              "      <td>0.0</td>\n",
              "      <td>0.0</td>\n",
              "      <td>0.0</td>\n",
              "      <td>0.0</td>\n",
              "      <td>0.0</td>\n",
              "      <td>0.0</td>\n",
              "      <td>0.0</td>\n",
              "      <td>0.0</td>\n",
              "      <td>0.0</td>\n",
              "      <td>0.0</td>\n",
              "      <td>0.0</td>\n",
              "    </tr>\n",
              "    <tr>\n",
              "      <th>5</th>\n",
              "      <td>0.0</td>\n",
              "      <td>0.0</td>\n",
              "      <td>0.0</td>\n",
              "      <td>1.0</td>\n",
              "      <td>0.0</td>\n",
              "      <td>0.0</td>\n",
              "      <td>0.0</td>\n",
              "      <td>0.0</td>\n",
              "      <td>0.0</td>\n",
              "      <td>0.0</td>\n",
              "      <td>0.0</td>\n",
              "      <td>0.0</td>\n",
              "      <td>0.0</td>\n",
              "      <td>0.0</td>\n",
              "      <td>0.0</td>\n",
              "      <td>0.0</td>\n",
              "      <td>0.0</td>\n",
              "      <td>0.0</td>\n",
              "      <td>0.0</td>\n",
              "      <td>0.0</td>\n",
              "    </tr>\n",
              "  </tbody>\n",
              "</table>\n",
              "</div>"
            ],
            "text/plain": [
              "         Adventure  Animation  Children  ...  Western  Film-Noir  (no genres listed)\n",
              "movieId                                  ...                                        \n",
              "1              1.0        1.0       1.0  ...      0.0        0.0                 0.0\n",
              "2              1.0        0.0       1.0  ...      0.0        0.0                 0.0\n",
              "3              0.0        0.0       0.0  ...      0.0        0.0                 0.0\n",
              "4              0.0        0.0       0.0  ...      0.0        0.0                 0.0\n",
              "5              0.0        0.0       0.0  ...      0.0        0.0                 0.0\n",
              "\n",
              "[5 rows x 20 columns]"
            ]
          },
          "metadata": {
            "tags": []
          },
          "execution_count": 15
        }
      ]
    },
    {
      "cell_type": "code",
      "metadata": {
        "id": "EavsfDcUe2Qh",
        "outputId": "c1f1aab5-9e35-4b50-90e8-1f1803f3c819",
        "colab": {
          "base_uri": "https://localhost:8080/",
          "height": 35
        }
      },
      "source": [
        "genreTable.shape"
      ],
      "execution_count": 16,
      "outputs": [
        {
          "output_type": "execute_result",
          "data": {
            "text/plain": [
              "(34208, 20)"
            ]
          },
          "metadata": {
            "tags": []
          },
          "execution_count": 16
        }
      ]
    },
    {
      "cell_type": "markdown",
      "metadata": {
        "id": "azH0R5xke2Qq"
      },
      "source": [
        "With the input's profile and the complete list of movies and their genres in hand, we're going to take the weighted average of every movie based on the input profile and recommend the top twenty movies that most satisfy it."
      ]
    },
    {
      "cell_type": "code",
      "metadata": {
        "id": "7MPSH5bHe2Qr",
        "outputId": "4e7c2499-41e7-42ef-b70b-ba16d23a9d7d",
        "colab": {
          "base_uri": "https://localhost:8080/",
          "height": 146
        }
      },
      "source": [
        "#Multiply the genres by the weights and then take the weighted average\n",
        "recommendationTable_df = ((genreTable*userProfile).sum(axis=1))/(userProfile.sum())\n",
        "recommendationTable_df.head()"
      ],
      "execution_count": 17,
      "outputs": [
        {
          "output_type": "execute_result",
          "data": {
            "text/plain": [
              "movieId\n",
              "1    0.594406\n",
              "2    0.293706\n",
              "3    0.188811\n",
              "4    0.328671\n",
              "5    0.188811\n",
              "dtype: float64"
            ]
          },
          "metadata": {
            "tags": []
          },
          "execution_count": 17
        }
      ]
    },
    {
      "cell_type": "code",
      "metadata": {
        "id": "QXWswyECe2Qy",
        "outputId": "934b9575-ff15-43fd-bc79-1dc3a6e82d95",
        "colab": {
          "base_uri": "https://localhost:8080/",
          "height": 146
        }
      },
      "source": [
        "#Sort our recommendations in descending order\n",
        "recommendationTable_df = recommendationTable_df.sort_values(ascending=False)\n",
        "#Just a peek at the values\n",
        "recommendationTable_df.head()"
      ],
      "execution_count": 18,
      "outputs": [
        {
          "output_type": "execute_result",
          "data": {
            "text/plain": [
              "movieId\n",
              "5018      0.748252\n",
              "26093     0.734266\n",
              "27344     0.720280\n",
              "148775    0.685315\n",
              "6902      0.678322\n",
              "dtype: float64"
            ]
          },
          "metadata": {
            "tags": []
          },
          "execution_count": 18
        }
      ]
    },
    {
      "cell_type": "markdown",
      "metadata": {
        "id": "nAoR-ziIe2Q7"
      },
      "source": [
        "Now here's the recommendation table!"
      ]
    },
    {
      "cell_type": "code",
      "metadata": {
        "scrolled": true,
        "id": "_wKuN4Pne2Q9",
        "outputId": "073f9b7f-4970-4290-ca3a-51dcc7a5cdde",
        "colab": {
          "base_uri": "https://localhost:8080/",
          "height": 677
        }
      },
      "source": [
        "#The final recommendation table\n",
        "movies_df.loc[movies_df['movieId'].isin(recommendationTable_df.head(20).keys())]"
      ],
      "execution_count": 19,
      "outputs": [
        {
          "output_type": "execute_result",
          "data": {
            "text/html": [
              "<div>\n",
              "<style scoped>\n",
              "    .dataframe tbody tr th:only-of-type {\n",
              "        vertical-align: middle;\n",
              "    }\n",
              "\n",
              "    .dataframe tbody tr th {\n",
              "        vertical-align: top;\n",
              "    }\n",
              "\n",
              "    .dataframe thead th {\n",
              "        text-align: right;\n",
              "    }\n",
              "</style>\n",
              "<table border=\"1\" class=\"dataframe\">\n",
              "  <thead>\n",
              "    <tr style=\"text-align: right;\">\n",
              "      <th></th>\n",
              "      <th>movieId</th>\n",
              "      <th>title</th>\n",
              "      <th>genres</th>\n",
              "      <th>year</th>\n",
              "    </tr>\n",
              "  </thead>\n",
              "  <tbody>\n",
              "    <tr>\n",
              "      <th>664</th>\n",
              "      <td>673</td>\n",
              "      <td>Space Jam</td>\n",
              "      <td>[Adventure, Animation, Children, Comedy, Fanta...</td>\n",
              "      <td>1996</td>\n",
              "    </tr>\n",
              "    <tr>\n",
              "      <th>1824</th>\n",
              "      <td>1907</td>\n",
              "      <td>Mulan</td>\n",
              "      <td>[Adventure, Animation, Children, Comedy, Drama...</td>\n",
              "      <td>1998</td>\n",
              "    </tr>\n",
              "    <tr>\n",
              "      <th>2902</th>\n",
              "      <td>2987</td>\n",
              "      <td>Who Framed Roger Rabbit?</td>\n",
              "      <td>[Adventure, Animation, Children, Comedy, Crime...</td>\n",
              "      <td>1988</td>\n",
              "    </tr>\n",
              "    <tr>\n",
              "      <th>4923</th>\n",
              "      <td>5018</td>\n",
              "      <td>Motorama</td>\n",
              "      <td>[Adventure, Comedy, Crime, Drama, Fantasy, Mys...</td>\n",
              "      <td>1991</td>\n",
              "    </tr>\n",
              "    <tr>\n",
              "      <th>6793</th>\n",
              "      <td>6902</td>\n",
              "      <td>Interstate 60</td>\n",
              "      <td>[Adventure, Comedy, Drama, Fantasy, Mystery, S...</td>\n",
              "      <td>2002</td>\n",
              "    </tr>\n",
              "    <tr>\n",
              "      <th>8605</th>\n",
              "      <td>26093</td>\n",
              "      <td>Wonderful World of the Brothers Grimm, The</td>\n",
              "      <td>[Adventure, Animation, Children, Comedy, Drama...</td>\n",
              "      <td>1962</td>\n",
              "    </tr>\n",
              "    <tr>\n",
              "      <th>8783</th>\n",
              "      <td>26340</td>\n",
              "      <td>Twelve Tasks of Asterix, The (Les douze travau...</td>\n",
              "      <td>[Action, Adventure, Animation, Children, Comed...</td>\n",
              "      <td>1976</td>\n",
              "    </tr>\n",
              "    <tr>\n",
              "      <th>9296</th>\n",
              "      <td>27344</td>\n",
              "      <td>Revolutionary Girl Utena: Adolescence of Utena...</td>\n",
              "      <td>[Action, Adventure, Animation, Comedy, Drama, ...</td>\n",
              "      <td>1999</td>\n",
              "    </tr>\n",
              "    <tr>\n",
              "      <th>9825</th>\n",
              "      <td>32031</td>\n",
              "      <td>Robots</td>\n",
              "      <td>[Adventure, Animation, Children, Comedy, Fanta...</td>\n",
              "      <td>2005</td>\n",
              "    </tr>\n",
              "    <tr>\n",
              "      <th>11716</th>\n",
              "      <td>51632</td>\n",
              "      <td>Atlantis: Milo's Return</td>\n",
              "      <td>[Action, Adventure, Animation, Children, Comed...</td>\n",
              "      <td>2003</td>\n",
              "    </tr>\n",
              "    <tr>\n",
              "      <th>11751</th>\n",
              "      <td>51939</td>\n",
              "      <td>TMNT (Teenage Mutant Ninja Turtles)</td>\n",
              "      <td>[Action, Adventure, Animation, Children, Comed...</td>\n",
              "      <td>2007</td>\n",
              "    </tr>\n",
              "    <tr>\n",
              "      <th>13250</th>\n",
              "      <td>64645</td>\n",
              "      <td>The Wrecking Crew</td>\n",
              "      <td>[Action, Adventure, Comedy, Crime, Drama, Thri...</td>\n",
              "      <td>1968</td>\n",
              "    </tr>\n",
              "    <tr>\n",
              "      <th>16055</th>\n",
              "      <td>81132</td>\n",
              "      <td>Rubber</td>\n",
              "      <td>[Action, Adventure, Comedy, Crime, Drama, Film...</td>\n",
              "      <td>2010</td>\n",
              "    </tr>\n",
              "    <tr>\n",
              "      <th>18312</th>\n",
              "      <td>91335</td>\n",
              "      <td>Gruffalo, The</td>\n",
              "      <td>[Adventure, Animation, Children, Comedy, Drama]</td>\n",
              "      <td>2009</td>\n",
              "    </tr>\n",
              "    <tr>\n",
              "      <th>22778</th>\n",
              "      <td>108540</td>\n",
              "      <td>Ernest &amp; Célestine (Ernest et Célestine)</td>\n",
              "      <td>[Adventure, Animation, Children, Comedy, Drama...</td>\n",
              "      <td>2012</td>\n",
              "    </tr>\n",
              "    <tr>\n",
              "      <th>22881</th>\n",
              "      <td>108932</td>\n",
              "      <td>The Lego Movie</td>\n",
              "      <td>[Action, Adventure, Animation, Children, Comed...</td>\n",
              "      <td>2014</td>\n",
              "    </tr>\n",
              "    <tr>\n",
              "      <th>25218</th>\n",
              "      <td>117646</td>\n",
              "      <td>Dragonheart 2: A New Beginning</td>\n",
              "      <td>[Action, Adventure, Comedy, Drama, Fantasy, Th...</td>\n",
              "      <td>2000</td>\n",
              "    </tr>\n",
              "    <tr>\n",
              "      <th>26442</th>\n",
              "      <td>122787</td>\n",
              "      <td>The 39 Steps</td>\n",
              "      <td>[Action, Adventure, Comedy, Crime, Drama, Thri...</td>\n",
              "      <td>1959</td>\n",
              "    </tr>\n",
              "    <tr>\n",
              "      <th>32854</th>\n",
              "      <td>146305</td>\n",
              "      <td>Princes and Princesses</td>\n",
              "      <td>[Animation, Children, Comedy, Drama, Fantasy, ...</td>\n",
              "      <td>2000</td>\n",
              "    </tr>\n",
              "    <tr>\n",
              "      <th>33509</th>\n",
              "      <td>148775</td>\n",
              "      <td>Wizards of Waverly Place: The Movie</td>\n",
              "      <td>[Adventure, Children, Comedy, Drama, Fantasy, ...</td>\n",
              "      <td>2009</td>\n",
              "    </tr>\n",
              "  </tbody>\n",
              "</table>\n",
              "</div>"
            ],
            "text/plain": [
              "       movieId  ...  year\n",
              "664        673  ...  1996\n",
              "1824      1907  ...  1998\n",
              "2902      2987  ...  1988\n",
              "4923      5018  ...  1991\n",
              "6793      6902  ...  2002\n",
              "8605     26093  ...  1962\n",
              "8783     26340  ...  1976\n",
              "9296     27344  ...  1999\n",
              "9825     32031  ...  2005\n",
              "11716    51632  ...  2003\n",
              "11751    51939  ...  2007\n",
              "13250    64645  ...  1968\n",
              "16055    81132  ...  2010\n",
              "18312    91335  ...  2009\n",
              "22778   108540  ...  2012\n",
              "22881   108932  ...  2014\n",
              "25218   117646  ...  2000\n",
              "26442   122787  ...  1959\n",
              "32854   146305  ...  2000\n",
              "33509   148775  ...  2009\n",
              "\n",
              "[20 rows x 4 columns]"
            ]
          },
          "metadata": {
            "tags": []
          },
          "execution_count": 19
        }
      ]
    },
    {
      "cell_type": "markdown",
      "metadata": {
        "id": "IaRJ13C7e2RE"
      },
      "source": [
        "### Advantages and Disadvantages of Content-Based Filtering\n",
        "\n",
        "##### Advantages\n",
        "* Learns user's preferences\n",
        "* Highly personalized for the user\n",
        "\n",
        "##### Disadvantages\n",
        "* Doesn't take into account what others think of the item, so low quality item recommendations might happen\n",
        "* Extracting data is not always intuitive\n",
        "* Determining what characteristics of the item the user dislikes or likes is not always obvious"
      ]
    }
  ]
}